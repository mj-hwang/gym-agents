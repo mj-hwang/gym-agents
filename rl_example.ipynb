{
 "cells": [
  {
   "cell_type": "code",
   "execution_count": 1,
   "metadata": {},
   "outputs": [],
   "source": [
    "import gym\n",
    "import time\n",
    "import cv2\n",
    "import numpy as np\n",
    "import scipy.linalg\n",
    "import matplotlib.pyplot as plt\n",
    "import tensorflow as tf\n",
    "from rl.dqn_agent import DQNAgent\n",
    "from misc.random_agent import RandomAgent\n",
    "from misc.atari_utils import *\n",
    "# from baselines.common.atari_wrappers import make_atari, wrap_deepmind"
   ]
  },
  {
   "cell_type": "code",
   "execution_count": 2,
   "metadata": {},
   "outputs": [],
   "source": [
    "env = gym.make(\"BreakoutNoFrameskip-v4\")\n",
    "env = NoopResetEnv(env, noop_max=30)\n",
    "env = MaxAndSkipEnv(env, skip=4)\n",
    "env = EpisodicLifeEnv(env)\n",
    "env = FireResetEnv(env)\n",
    "env = WarpFrame(env)\n",
    "env = ScaledFloatFrame(env)\n",
    "env = ClipRewardEnv(env)\n",
    "env = FrameStack(env, 4)"
   ]
  },
  {
   "cell_type": "code",
   "execution_count": 3,
   "metadata": {},
   "outputs": [
    {
     "name": "stdout",
     "output_type": "stream",
     "text": [
      "WARNING:tensorflow:No training configuration found in save file, so the model was *not* compiled. Compile it manually.\n"
     ]
    }
   ],
   "source": [
    "agent = DQNAgent(env)\n",
    "agent.load_model()"
   ]
  },
  {
   "cell_type": "code",
   "execution_count": 4,
   "metadata": {
    "scrolled": true
   },
   "outputs": [],
   "source": [
    "state = env.reset()\n",
    "rewards = 0\n",
    "for i in range(5000):\n",
    "    env.render(mode='human')\n",
    "    a = agent.get_action(state)\n",
    "    state, reward, done, _ = env.step(a)\n",
    "    if done:\n",
    "        break"
   ]
  }
 ],
 "metadata": {
  "kernelspec": {
   "display_name": "Python 3",
   "language": "python",
   "name": "python3"
  },
  "language_info": {
   "codemirror_mode": {
    "name": "ipython",
    "version": 3
   },
   "file_extension": ".py",
   "mimetype": "text/x-python",
   "name": "python",
   "nbconvert_exporter": "python",
   "pygments_lexer": "ipython3",
   "version": "3.8.5"
  }
 },
 "nbformat": 4,
 "nbformat_minor": 4
}
