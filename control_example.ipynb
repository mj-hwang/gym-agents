{
 "cells": [
  {
   "cell_type": "code",
   "execution_count": 1,
   "metadata": {},
   "outputs": [],
   "source": [
    "from env.cartpolecont import *\n",
    "\n",
    "import gym\n",
    "import time\n",
    "import numpy as np\n",
    "import scipy.linalg\n",
    "import matplotlib.pyplot as plt\n",
    "\n",
    "from misc.random_agent import *\n",
    "from control.lqr_agent import *\n",
    "\n",
    "# environment to be recorded\n",
    "env = gym.make('CartPoleCont-v0')\n",
    "sim_env = gym.make('CartPoleCont-v0')"
   ]
  },
  {
   "cell_type": "code",
   "execution_count": 2,
   "metadata": {},
   "outputs": [],
   "source": [
    "# envtr: env to be recorded\n",
    "def simulate(envtr, agent_type, T=100):\n",
    "    envtr._max_episode_steps = 500\n",
    "    env = gym.wrappers.Monitor(envtr, \"videos\", force=True)\n",
    "    env.reset()\n",
    "    agent = agent_type(env)\n",
    "    for i in range(T):\n",
    "        env.render(mode='human')\n",
    "        time.sleep(0.02)\n",
    "        a = agent.action()\n",
    "        _, _, done, _ = env.step(a) # take a random action\n",
    "        if done:\n",
    "            break\n",
    "    \n",
    "    print(\"Episode ended after {} timesteps\".format(i+1))\n",
    "    env.stats_recorder.save_complete()\n",
    "    env.stats_recorder.done = True\n",
    "    env.close()\n",
    "    envtr.reset()\n",
    "    envtr.close()"
   ]
  },
  {
   "cell_type": "markdown",
   "metadata": {},
   "source": [
    "## Random Agent"
   ]
  },
  {
   "cell_type": "code",
   "execution_count": 3,
   "metadata": {},
   "outputs": [
    {
     "name": "stdout",
     "output_type": "stream",
     "text": [
      "Episode ended after 37 timesteps\n"
     ]
    }
   ],
   "source": [
    "simulate(env, RandomAgent)"
   ]
  },
  {
   "cell_type": "markdown",
   "metadata": {},
   "source": [
    "## LQR Agent"
   ]
  },
  {
   "cell_type": "code",
   "execution_count": 4,
   "metadata": {},
   "outputs": [
    {
     "name": "stdout",
     "output_type": "stream",
     "text": [
      "Episode ended after 100 timesteps\n"
     ]
    }
   ],
   "source": [
    "simulate(env, lambda env:LQRAgent(env, sim_env))"
   ]
  }
 ],
 "metadata": {
  "kernelspec": {
   "display_name": "Python 3",
   "language": "python",
   "name": "python3"
  },
  "language_info": {
   "codemirror_mode": {
    "name": "ipython",
    "version": 3
   },
   "file_extension": ".py",
   "mimetype": "text/x-python",
   "name": "python",
   "nbconvert_exporter": "python",
   "pygments_lexer": "ipython3",
   "version": "3.8.5"
  }
 },
 "nbformat": 4,
 "nbformat_minor": 4
}
