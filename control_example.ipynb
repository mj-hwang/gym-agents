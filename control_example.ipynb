{
 "cells": [
  {
   "cell_type": "code",
   "execution_count": 1,
   "metadata": {},
   "outputs": [
    {
     "data": {
      "text/plain": [
       "array([-0.13015236, -0.02796216, -0.16196381,  0.10385134])"
      ]
     },
     "execution_count": 1,
     "metadata": {},
     "output_type": "execute_result"
    }
   ],
   "source": [
    "from env.cartpolecont import *\n",
    "\n",
    "import gym\n",
    "import time\n",
    "import numpy as np\n",
    "import scipy.linalg\n",
    "import matplotlib.pyplot as plt\n",
    "\n",
    "from misc.random_agent import *\n",
    "from control.lqr_agent import *\n",
    "\n",
    "# environment to be recorded\n",
    "env = gym.make('CartPoleCont-v0')\n",
    "sim_env = gym.make('CartPoleCont-v0')\n",
    "sim_env.reset()"
   ]
  },
  {
   "cell_type": "code",
   "execution_count": 2,
   "metadata": {},
   "outputs": [],
   "source": [
    "# envtr: env to be recorded\n",
    "def simulate(envtr, agent_type, T=100):\n",
    "    envtr._max_episode_steps = 500\n",
    "    env = gym.wrappers.Monitor(envtr, \"videos\", force=True)\n",
    "    env.reset()\n",
    "    agent = agent_type(env)\n",
    "    for i in range(T):\n",
    "        env.render(mode='human')\n",
    "        time.sleep(0.02)\n",
    "        a = np.clip(agent.get_action(), -1, 1)\n",
    "        _, _, done, _ = env.step(a) # take a random action\n",
    "        if done:\n",
    "            break\n",
    "    \n",
    "    print(\"Episode ended after {} timesteps\".format(i+1))\n",
    "    env.stats_recorder.save_complete()\n",
    "    env.stats_recorder.done = True\n",
    "    env.close()\n",
    "    envtr.reset()\n",
    "    envtr.close()"
   ]
  },
  {
   "cell_type": "markdown",
   "metadata": {},
   "source": [
    "## Random Agent"
   ]
  },
  {
   "cell_type": "code",
   "execution_count": 3,
   "metadata": {},
   "outputs": [
    {
     "name": "stdout",
     "output_type": "stream",
     "text": [
      "Episode ended after 8 timesteps\n"
     ]
    }
   ],
   "source": [
    "simulate(env, RandomAgent)"
   ]
  },
  {
   "cell_type": "markdown",
   "metadata": {},
   "source": [
    "## LQR Agent"
   ]
  },
  {
   "cell_type": "code",
   "execution_count": 4,
   "metadata": {
    "scrolled": true
   },
   "outputs": [
    {
     "name": "stdout",
     "output_type": "stream",
     "text": [
      "Episode ended after 100 timesteps\n"
     ]
    }
   ],
   "source": [
    "simulate(env, lambda env:LQRAgent(env, sim_env))"
   ]
  },
  {
   "cell_type": "code",
   "execution_count": 5,
   "metadata": {},
   "outputs": [],
   "source": [
    "# from matplotlib import animation\n",
    "\n",
    "# def save_frames_as_gif(frames, path='./', filename='gym_animation.gif'):\n",
    "\n",
    "#     #Mess with this to change frame size\n",
    "#     plt.figure(figsize=(frames[0].shape[1] / 72.0, frames[0].shape[0] / 72.0), dpi=72)\n",
    "\n",
    "#     patch = plt.imshow(frames[0])\n",
    "#     plt.axis('off')\n",
    "\n",
    "#     def animate(i):\n",
    "#         patch.set_data(frames[i])\n",
    "\n",
    "#     anim = animation.FuncAnimation(plt.gcf(), animate, frames = len(frames), interval=50)\n",
    "#     anim.save(path + filename, writer='imagemagick', fps=40)\n",
    "\n",
    "# env.reset()\n",
    "# sim_env.reset()\n",
    "# frames = []\n",
    "# agent = LQRAgent(env, sim_env)\n",
    "# for t in range(100):\n",
    "#     #Render to frames buffer\n",
    "#     frames.append(env.render(mode=\"rgb_array\"))\n",
    "#     action = np.clip(agent.get_action(), -1, 1)\n",
    "#     _, _, done, _ = env.step(action)\n",
    "#     if done:\n",
    "#         break\n",
    "# env.close()\n",
    "# save_frames_as_gif(frames, filename='lqr_cartpole.gif')"
   ]
  }
 ],
 "metadata": {
  "kernelspec": {
   "display_name": "Python 3",
   "language": "python",
   "name": "python3"
  },
  "language_info": {
   "codemirror_mode": {
    "name": "ipython",
    "version": 3
   },
   "file_extension": ".py",
   "mimetype": "text/x-python",
   "name": "python",
   "nbconvert_exporter": "python",
   "pygments_lexer": "ipython3",
   "version": "3.8.5"
  }
 },
 "nbformat": 4,
 "nbformat_minor": 4
}
