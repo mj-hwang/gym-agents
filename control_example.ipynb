{
 "cells": [
  {
   "cell_type": "code",
   "execution_count": 1,
   "metadata": {},
   "outputs": [],
   "source": [
    "from env.arm import TwoLinkArmEnv\n",
    "\n",
    "import gym\n",
    "import time\n",
    "import numpy as np\n",
    "import scipy.linalg\n",
    "import matplotlib.pyplot as plt\n",
    "\n",
    "\n",
    "from misc.random_agent import *\n",
    "env = gym.make('CartPoleCont-v0')\n",
    "sim_env = gym.make('CartPoleCont-v0')"
   ]
  },
  {
   "cell_type": "markdown",
   "metadata": {},
   "source": [
    "## Random Agent"
   ]
  },
  {
   "cell_type": "code",
   "execution_count": 35,
   "metadata": {},
   "outputs": [
    {
     "name": "stderr",
     "output_type": "stream",
     "text": [
      "/home/mjhwang/anaconda3/envs/tf2/lib/python3.8/site-packages/gym/logger.py:30: UserWarning: \u001b[33mWARN: You are calling 'step()' even though this environment has already returned done = True. You should always call 'reset()' once you receive 'done = True' -- any further steps are undefined behavior.\u001b[0m\n",
      "  warnings.warn(colorize('%s: %s'%('WARN', msg % args), 'yellow'))\n"
     ]
    }
   ],
   "source": [
    "env.reset()\n",
    "random_agent = RandomAgent(env.action_space)\n",
    "for _ in range(100):\n",
    "    env.render(mode='human')\n",
    "    env.step(random_agent.act()) # take a random action\n",
    "env.close()"
   ]
  },
  {
   "cell_type": "code",
   "execution_count": 36,
   "metadata": {},
   "outputs": [
    {
     "name": "stdout",
     "output_type": "stream",
     "text": [
      "Episode finished after 18 timesteps\n"
     ]
    }
   ],
   "source": [
    "envtr = gym.make('CartPoleCont-v0')\n",
    "envtr._max_episode_steps = 500\n",
    "env = gym.wrappers.Monitor(envtr, \"~/Desktop/gym-agents/videos\", force=True)\n",
    "env.reset()\n",
    "random_agent = RandomAgent(env.action_space)\n",
    "for _ in range(50):\n",
    "    env.render(mode='human')\n",
    "    time.sleep(0.01)\n",
    "    observation, reward, done, info = env.step(random_agent.act()) # take a random action\n",
    "    if done:\n",
    "        print(\"Episode finished after {} timesteps\".format(_+1))\n",
    "        break\n",
    "        \n",
    "env.stats_recorder.save_complete()\n",
    "env.stats_recorder.done = True\n",
    "env.close()\n",
    "envtr.close()"
   ]
  },
  {
   "cell_type": "markdown",
   "metadata": {},
   "source": [
    "## LQR Agent"
   ]
  },
  {
   "cell_type": "code",
   "execution_count": 6,
   "metadata": {
    "scrolled": true
   },
   "outputs": [],
   "source": [
    "env.reset()\n",
    "goal = np.array([0, 0, 0, 0])\n",
    "for _ in range(50):\n",
    "    env.render()\n",
    "    time.sleep(0.05)\n",
    "    \n",
    "    u = calc_lqr_input(env,sim_env,goal)\n",
    "    state,re,done,_ = env.step(u)\n",
    "env.close()"
   ]
  },
  {
   "cell_type": "code",
   "execution_count": 34,
   "metadata": {},
   "outputs": [],
   "source": [
    "envtr = gym.make('CartPoleCont-v0')\n",
    "envtr._max_episode_steps = 500\n",
    "env = gym.wrappers.Monitor(envtr, \"~/Desktop/gym-agents/videos\", force=True)\n",
    "env.reset()\n",
    "for _ in range(50):\n",
    "    env.render(mode='human')\n",
    "    time.sleep(0.01)\n",
    "    u = calc_lqr_input(env,sim_env,goal)\n",
    "    state,re,done,_ = env.step(u)\n",
    "    if done:\n",
    "        print(\"Episode finished after {} timesteps\".format(_+1))\n",
    "        break\n",
    "        \n",
    "env.stats_recorder.save_complete()\n",
    "env.stats_recorder.done = True\n",
    "env.close()\n",
    "envtr.close()"
   ]
  },
  {
   "cell_type": "code",
   "execution_count": 4,
   "metadata": {},
   "outputs": [],
   "source": [
    "from scipy.linalg import solve_continuous_are as sol_riccatti\n",
    "\n",
    "def simulate_dynamics(sim_env, x, u):\n",
    "    sim_env.state = x.copy()\n",
    "    x_1 = np.array(sim_env.step(u)[0])\n",
    "    return x_1-x.copy()\n",
    "\n",
    "\n",
    "def approximate_A(sim_env, x, u, delta=1e-5):\n",
    "    A = np.zeros((x.shape[0], x.shape[0]))\n",
    "    for i in range(A.shape[1]):\n",
    "\n",
    "        x_perturbed = x.copy()\n",
    "        x_perturbed[i] -= delta\n",
    "\n",
    "        pert_neg = simulate_dynamics(sim_env,x_perturbed,u)\n",
    "\n",
    "        x_perturbed = x.copy()\n",
    "        x_perturbed[i] += delta\n",
    "        pert_pos = simulate_dynamics(sim_env,x_perturbed,u)\n",
    "        \n",
    "        A[:,i] = (pert_pos - pert_neg)/(2*delta)\n",
    "\n",
    "    return A\n",
    "\n",
    "\n",
    "def approximate_B(sim_env, x, u, delta=1e-5):\n",
    "    B = np.zeros((x.shape[0], u.shape[0]))\n",
    "    for i in range(B.shape[1]):\n",
    "\n",
    "        u_perturbed = u.copy()\n",
    "        u_perturbed[i] -= delta\n",
    "        pert_neg = simulate_dynamics(sim_env,x,u_perturbed)\n",
    "\n",
    "        u_perturbed = u.copy()\n",
    "        u_perturbed[i] += delta\n",
    "        pert_pos = simulate_dynamics(sim_env,x,u_perturbed)\n",
    "\n",
    "        B[:,i] = (pert_pos - pert_neg)/(2*delta)\n",
    "\n",
    "    return B\n",
    "\n",
    "def calc_lqr_input(env, sim_env, goal, u=None):\n",
    "    if u is None:\n",
    "        u = np.zeros(env.action_space.shape)\n",
    "\n",
    "    x = env.state\n",
    "    A = approximate_A(sim_env,x,u)\n",
    "    B = approximate_B(sim_env,x,u)\n",
    "    Q = np.eye(x.shape[0])\n",
    "    R = np.eye(env.action_space.shape[0])\n",
    "    P = sol_riccatti(A, B, Q, R)\n",
    "    K = np.linalg.inv(R) @ B.T @ P\n",
    "    u = -K @ (x-np.copy(goal))\n",
    "    return u\n"
   ]
  },
  {
   "cell_type": "code",
   "execution_count": 6,
   "metadata": {},
   "outputs": [
    {
     "data": {
      "text/plain": [
       "(array([[6.053842 ],\n",
       "        [2.9766529],\n",
       "        [5.461025 ],\n",
       "        [5.1331835]], dtype=float32),\n",
       " 0.0,\n",
       " True,\n",
       " {})"
      ]
     },
     "execution_count": 6,
     "metadata": {},
     "output_type": "execute_result"
    }
   ],
   "source": [
    "env.rest()"
   ]
  },
  {
   "cell_type": "code",
   "execution_count": 23,
   "metadata": {},
   "outputs": [
    {
     "data": {
      "text/plain": [
       "array([ 0.03948536, -0.03347131,  0.02668339, -0.00560818])"
      ]
     },
     "execution_count": 23,
     "metadata": {},
     "output_type": "execute_result"
    }
   ],
   "source": [
    "env = gym.make('CartPole-v0')\n",
    "env.reset()\n",
    "env.state"
   ]
  },
  {
   "cell_type": "markdown",
   "metadata": {},
   "source": [
    "## iLQR Agent"
   ]
  },
  {
   "cell_type": "code",
   "execution_count": 27,
   "metadata": {},
   "outputs": [
    {
     "name": "stdout",
     "output_type": "stream",
     "text": [
      "[ 0.00758169  0.21961814  0.04678902 -0.27272491]\n",
      "[ 0.03881593  0.161258    0.02657122 -0.28975419]\n"
     ]
    },
    {
     "data": {
      "text/plain": [
       "array([-0.03123424,  0.05836014,  0.0202178 ,  0.01702927])"
      ]
     },
     "execution_count": 27,
     "metadata": {},
     "output_type": "execute_result"
    }
   ],
   "source": [
    "simulate_dynamics(env, env.state, 1)"
   ]
  },
  {
   "cell_type": "code",
   "execution_count": 31,
   "metadata": {},
   "outputs": [
    {
     "data": {
      "text/plain": [
       "array([[ 1041.12155488, -2082.77649132,  1086.50738601,  -872.89543614],\n",
       "       [-1220.9859048 ,   866.28643259,  -622.98456538,   427.75968439],\n",
       "       [ 2430.47469507, -2309.27268875,  3346.34181872,   435.24687625],\n",
       "       [ 2008.52730615,  -482.10583511,  -356.61508217,  1930.8843898 ]])"
      ]
     },
     "execution_count": 31,
     "metadata": {},
     "output_type": "execute_result"
    }
   ],
   "source": [
    "approximate_A(env, env.state, 1)"
   ]
  },
  {
   "cell_type": "code",
   "execution_count": 37,
   "metadata": {},
   "outputs": [
    {
     "data": {
      "text/plain": [
       "array([[ -607.90344279,  -995.11432872,   189.97784244,    98.27222031],\n",
       "       [-2002.56935536,  1342.99156751,   -62.52515566,  -901.60484931],\n",
       "       [ -301.73213514,  1994.82534941,  1127.01438306,  -866.47303639],\n",
       "       [ 1038.56983833,   -79.83316563,   212.52812192,  2408.66801234]])"
      ]
     },
     "execution_count": 37,
     "metadata": {},
     "output_type": "execute_result"
    }
   ],
   "source": [
    "approximate_A(env, env.state, 0)"
   ]
  },
  {
   "cell_type": "code",
   "execution_count": 30,
   "metadata": {},
   "outputs": [],
   "source": [
    "def simulate_dynamics(env, x, u):\n",
    "    env.reset()\n",
    "    env.state = np.array(x).copy()\n",
    "    x_1 = env.step(u)[0]\n",
    "    return x_1 - x\n",
    "\n",
    "def approximate_A(sim_env, x, u, delta=1e-5):\n",
    "    A = np.zeros((x.shape[0], x.shape[0]))\n",
    "    for i in range(A.shape[1]):\n",
    "        x_perturbed = np.array(x).copy()\n",
    "        x_perturbed[i] -= delta\n",
    "        # print('x_neg', x_perturbed)\n",
    "        pert_neg = simulate_dynamics(sim_env,x_perturbed,u)\n",
    "        # print('out_neg',pert_neg)\n",
    "        x_perturbed = np.array(x).copy()\n",
    "        x_perturbed[i] += delta\n",
    "        # print('x_pos', x_perturbed)\n",
    "        pert_pos = simulate_dynamics(sim_env,x_perturbed,u)\n",
    "        # print('out_neg',pert_pos)\n",
    "        A[:,i] = (pert_pos - pert_neg)/(2*delta)\n",
    "    return A"
   ]
  },
  {
   "cell_type": "code",
   "execution_count": null,
   "metadata": {},
   "outputs": [],
   "source": [
    "reset"
   ]
  },
  {
   "cell_type": "code",
   "execution_count": 38,
   "metadata": {},
   "outputs": [
    {
     "ename": "ValueError",
     "evalue": "operands could not be broadcast together with shapes (3,) (2,) ",
     "output_type": "error",
     "traceback": [
      "\u001b[0;31m---------------------------------------------------------------------------\u001b[0m",
      "\u001b[0;31mValueError\u001b[0m                                Traceback (most recent call last)",
      "\u001b[0;32m<ipython-input-38-56b2998fa906>\u001b[0m in \u001b[0;36m<module>\u001b[0;34m\u001b[0m\n\u001b[0;32m----> 1\u001b[0;31m \u001b[0mapproximate_A\u001b[0m\u001b[0;34m(\u001b[0m\u001b[0menv\u001b[0m\u001b[0;34m,\u001b[0m \u001b[0menv\u001b[0m\u001b[0;34m.\u001b[0m\u001b[0mstate\u001b[0m\u001b[0;34m,\u001b[0m \u001b[0menv\u001b[0m\u001b[0;34m.\u001b[0m\u001b[0maction_space\u001b[0m\u001b[0;34m.\u001b[0m\u001b[0msample\u001b[0m\u001b[0;34m(\u001b[0m\u001b[0;34m)\u001b[0m\u001b[0;34m)\u001b[0m\u001b[0;34m\u001b[0m\u001b[0;34m\u001b[0m\u001b[0m\n\u001b[0m",
      "\u001b[0;32m<ipython-input-37-cccdfcfa6f4b>\u001b[0m in \u001b[0;36mapproximate_A\u001b[0;34m(sim_env, x, u, delta)\u001b[0m\n\u001b[1;32m     10\u001b[0m         \u001b[0mx_perturbed\u001b[0m\u001b[0;34m[\u001b[0m\u001b[0mi\u001b[0m\u001b[0;34m]\u001b[0m \u001b[0;34m-=\u001b[0m \u001b[0mdelta\u001b[0m\u001b[0;34m\u001b[0m\u001b[0;34m\u001b[0m\u001b[0m\n\u001b[1;32m     11\u001b[0m         \u001b[0;31m# print('x_neg', x_perturbed)\u001b[0m\u001b[0;34m\u001b[0m\u001b[0;34m\u001b[0m\u001b[0;34m\u001b[0m\u001b[0m\n\u001b[0;32m---> 12\u001b[0;31m         \u001b[0mpert_neg\u001b[0m \u001b[0;34m=\u001b[0m \u001b[0msimulate_dynamics\u001b[0m\u001b[0;34m(\u001b[0m\u001b[0msim_env\u001b[0m\u001b[0;34m,\u001b[0m\u001b[0mx_perturbed\u001b[0m\u001b[0;34m,\u001b[0m\u001b[0mu\u001b[0m\u001b[0;34m)\u001b[0m\u001b[0;34m\u001b[0m\u001b[0;34m\u001b[0m\u001b[0m\n\u001b[0m\u001b[1;32m     13\u001b[0m         \u001b[0;31m# print('out_neg',pert_neg)\u001b[0m\u001b[0;34m\u001b[0m\u001b[0;34m\u001b[0m\u001b[0;34m\u001b[0m\u001b[0m\n\u001b[1;32m     14\u001b[0m         \u001b[0mx_perturbed\u001b[0m \u001b[0;34m=\u001b[0m \u001b[0mx\u001b[0m\u001b[0;34m.\u001b[0m\u001b[0mcopy\u001b[0m\u001b[0;34m(\u001b[0m\u001b[0;34m)\u001b[0m\u001b[0;34m\u001b[0m\u001b[0;34m\u001b[0m\u001b[0m\n",
      "\u001b[0;32m<ipython-input-37-cccdfcfa6f4b>\u001b[0m in \u001b[0;36msimulate_dynamics\u001b[0;34m(env, x, u)\u001b[0m\n\u001b[1;32m      2\u001b[0m     \u001b[0menv\u001b[0m\u001b[0;34m.\u001b[0m\u001b[0mstate\u001b[0m \u001b[0;34m=\u001b[0m \u001b[0mx\u001b[0m\u001b[0;34m.\u001b[0m\u001b[0mcopy\u001b[0m\u001b[0;34m(\u001b[0m\u001b[0;34m)\u001b[0m\u001b[0;34m\u001b[0m\u001b[0;34m\u001b[0m\u001b[0m\n\u001b[1;32m      3\u001b[0m     \u001b[0mx_1\u001b[0m \u001b[0;34m=\u001b[0m \u001b[0menv\u001b[0m\u001b[0;34m.\u001b[0m\u001b[0mstep\u001b[0m\u001b[0;34m(\u001b[0m\u001b[0mu\u001b[0m\u001b[0;34m)\u001b[0m\u001b[0;34m[\u001b[0m\u001b[0;36m0\u001b[0m\u001b[0;34m]\u001b[0m\u001b[0;34m\u001b[0m\u001b[0;34m\u001b[0m\u001b[0m\n\u001b[0;32m----> 4\u001b[0;31m     \u001b[0;32mreturn\u001b[0m \u001b[0mx_1\u001b[0m \u001b[0;34m-\u001b[0m \u001b[0mx\u001b[0m\u001b[0;34m\u001b[0m\u001b[0;34m\u001b[0m\u001b[0m\n\u001b[0m\u001b[1;32m      5\u001b[0m \u001b[0;34m\u001b[0m\u001b[0m\n\u001b[1;32m      6\u001b[0m \u001b[0;32mdef\u001b[0m \u001b[0mapproximate_A\u001b[0m\u001b[0;34m(\u001b[0m\u001b[0msim_env\u001b[0m\u001b[0;34m,\u001b[0m \u001b[0mx\u001b[0m\u001b[0;34m,\u001b[0m \u001b[0mu\u001b[0m\u001b[0;34m,\u001b[0m \u001b[0mdelta\u001b[0m\u001b[0;34m=\u001b[0m\u001b[0;36m1e-5\u001b[0m\u001b[0;34m)\u001b[0m\u001b[0;34m:\u001b[0m\u001b[0;34m\u001b[0m\u001b[0;34m\u001b[0m\u001b[0m\n",
      "\u001b[0;31mValueError\u001b[0m: operands could not be broadcast together with shapes (3,) (2,) "
     ]
    }
   ],
   "source": [
    "approximate_A(env, env.state, env.action_space.sample())"
   ]
  },
  {
   "cell_type": "code",
   "execution_count": 32,
   "metadata": {},
   "outputs": [],
   "source": [
    "def simulate_dynamics_next(env, x, u):\n",
    "    env.state = x.copy()\n",
    "    x_1 = env.step(u)[0]\n",
    "    return x_1"
   ]
  },
  {
   "cell_type": "code",
   "execution_count": 33,
   "metadata": {},
   "outputs": [],
   "source": [
    "def approx_F(env, x, u, delta=1e-5, n=10):\n",
    "    v = np.concatenate((x, u))\n",
    "    X = np.zeros((n, v.shape[0]))\n",
    "    Y = np.zeros((n, x.shape[0]))\n",
    "    x_1 = simulate_dynamics_next(env, x, u)\n",
    "    for i in xrange(n):\n",
    "        pert = np.random.normal(size=v.shape)\n",
    "        pert /= np.sqrt(np.sum(pert * pert))\n",
    "        pert *= delta\n",
    "        v_p = v + pert\n",
    "        X[i] = pert\n",
    "        Y[i] = simulate_dynamics_next(env, v_p[:x.shape[0]], v_p[x.shape[0]:]) - x_1\n",
    "    return scipy.linalg.lstsq(X, Y)[0]"
   ]
  },
  {
   "cell_type": "code",
   "execution_count": 16,
   "metadata": {},
   "outputs": [
    {
     "data": {
      "text/plain": [
       "array([-0.67947638, -0.73369739,  0.75307987])"
      ]
     },
     "execution_count": 16,
     "metadata": {},
     "output_type": "execute_result"
    }
   ],
   "source": [
    "simulate_dynamics_next(env, env.state, env.action_space.sample())"
   ]
  },
  {
   "cell_type": "code",
   "execution_count": 22,
   "metadata": {},
   "outputs": [
    {
     "data": {
      "text/plain": [
       "array([-0.89310978, -0.44983878, -2.43259836])"
      ]
     },
     "execution_count": 22,
     "metadata": {},
     "output_type": "execute_result"
    }
   ],
   "source": [
    "simulate_dynamics_next(env, env.state, env.action_space.sample())"
   ]
  },
  {
   "cell_type": "code",
   "execution_count": null,
   "metadata": {},
   "outputs": [],
   "source": []
  },
  {
   "cell_type": "code",
   "execution_count": 23,
   "metadata": {},
   "outputs": [],
   "source": [
    "def approx_F(env, x, u, delta=1e-5, n=10):\n",
    "    v = np.concatenate((x, u))\n",
    "    X = np.zeros((n, v.shape[0]))\n",
    "    Y = np.zeros((n, x.shape[0]))\n",
    "    x_1 = simulate_dynamics_next(env, x, u)\n",
    "    for i in xrange(n):\n",
    "        pert = np.random.normal(size=v.shape)\n",
    "        pert /= np.sqrt(np.sum(pert * pert))\n",
    "        pert *= delta\n",
    "        v_p = v + pert\n",
    "        X[i] = pert\n",
    "        Y[i] = simulate_dynamics_next(env, v_p[:x.shape[0]], v_p[x.shape[0]:]) - x_1\n",
    "    return scipy.linalg.lstsq(X, Y)[0]\n"
   ]
  },
  {
   "cell_type": "code",
   "execution_count": 4,
   "metadata": {},
   "outputs": [
    {
     "data": {
      "text/plain": [
       "(array([ 0.82319097,  0.56776459, -3.58017371]), -2.074779441779047, False, {})"
      ]
     },
     "execution_count": 4,
     "metadata": {},
     "output_type": "execute_result"
    }
   ],
   "source": [
    "env.step(env.action_space.sample())"
   ]
  },
  {
   "cell_type": "code",
   "execution_count": 8,
   "metadata": {},
   "outputs": [],
   "source": [
    "def simulate_dynamics_next(env, x, u):\n",
    "    env.state = x.copy()\n",
    "    next_x,_,_,_ = env.step(u)\n",
    "    return next_x.copy()\n",
    "\n",
    "\n",
    "def cost_inter(env, x, u,lamb = 1.0):\n",
    "    l = np.dot(u,u)*lamb\n",
    "    l_x = np.zeros_like(x)*lamb\n",
    "    l_xx = np.zeros([x.shape[0],x.shape[0]])*lamb\n",
    "    l_u = 2*u*lamb\n",
    "    l_uu = 2*np.eye(u.shape[0])*lamb\n",
    "    l_ux = np.zeros([u.shape[0],x.shape[0]])*lamb\n",
    "    return l,l_x.copy(),l_xx.copy(),l_u.copy(),l_uu.copy(),l_ux.copy()\n",
    "\n",
    "\n",
    "def cost_final(env, x,lamb = 1.0):\n",
    "    l = 10000*np.square(np.linalg.norm(x-env.goal,2))*lamb\n",
    "    l_x = 20000*(x-env.goal)*lamb\n",
    "    l_xx = 20000*np.eye(x.shape[0])*lamb\n",
    "    return l,l_x.copy(),l_xx.copy()\n",
    "\n",
    "\n",
    "def approximate_F(env,x,u,delta = 1e-5):\n",
    "\n",
    "    #env.state = x.copy()\n",
    "    con = np.hstack([x,u])\n",
    "    x_next = simulate_dynamics_next(env,x,u)\n",
    "    F = np.zeros([x.shape[0],con.shape[0]])\n",
    "    for j in range(con.shape[0]):\n",
    "      con_pert = con.copy()\n",
    "      con_pert[j] += delta\n",
    "      x_next_pert = simulate_dynamics_next(env,con_pert[:x.shape[0]],con_pert[x.shape[0]:])\n",
    "      x_next_delta = x_next_pert-x_next\n",
    "      for i in range(x.shape[0]):\n",
    "        F[i,j] = x_next_delta[i]/delta\n",
    "    return F.copy()\n",
    "\n",
    "def simulate(env, x0, U):\n",
    "    return None\n",
    "\n",
    "\n",
    "def calc_ilqr_input(env, sim_env, tN=100, max_iter=1e5):\n",
    "    \"\"\"Calculate the optimal control input for the given state.\n",
    "    Parameters\n",
    "    ----------\n",
    "    env: gym.core.Env\n",
    "      This is the true environment you will execute the computed\n",
    "      commands on. Use this environment to get the Q and R values as\n",
    "      well as the state.\n",
    "    sim_env: gym.core.Env\n",
    "      A copy of the env class. Use this to simulate the dynamics when\n",
    "      doing finite differences.\n",
    "    tN: number of control steps you are going to execute\n",
    "    max_itr: max iterations for optmization\n",
    "    Returns\n",
    "    -------\n",
    "    U: np.array\n",
    "      The SEQUENCE of commands to execute. The size should be (tN, #parameters)\n",
    "    \"\"\"\n",
    "    \n",
    "    x_0 = env.state.copy()\n",
    "    adim = env.action_space.shape[0]\n",
    "    xdim = x_0.shape[0]\n",
    "    x_hat = np.zeros([tN+1,xdim])\n",
    "    u_hat = np.zeros([tN,adim])\n",
    "    # if init_u is not None:\n",
    "    #   u_hat = init_u.copy()\n",
    "    #   sim_env.state = x_0.copy()\n",
    "    #   for i in range(tN):\n",
    "    #     x_hat[i] = sim_env.state.copy()\n",
    "    #     sim_env.step(u_hat[i])\n",
    "    \n",
    "    \n",
    "    K_t = np.zeros([tN,adim,xdim])\n",
    "    k_t = np.zeros([tN,adim])\n",
    "    # Q_t = np.zeros([tN,x_dim+adim,x_dim+adim])\n",
    "    # q_t = np.zeros([tN,x_dim+adim])\n",
    "    V_t = np.zeros([tN+1,xdim,xdim])\n",
    "    v_t = np.zeros([tN+1,xdim])\n",
    "    # v = np.zeros([tN+1,])\n",
    "    # v_x = np.zeros([tN+1,xdim])\n",
    "    # v_xx = np.zeros([tN+1,xdim,xdim])\n",
    "    \n",
    "    total_cost = []\n",
    "    total_reward = []\n",
    "\n",
    "    for i in range(int(max_iter)):\n",
    "      print(\"iteration: %d\"%(i+1))\n",
    "      rtotal = 0\n",
    "      tcost = 0\n",
    "      u_hat_old = u_hat.copy()\n",
    "\n",
    "      #backward\n",
    "      _,v_t[-1],V_t[-1] = cost_final(sim_env,x_hat[-1],300.0)\n",
    "      for t in reversed(range(tN)):\n",
    "        F_t = approximate_F(sim_env,x_hat[t],u_hat[t])\n",
    "        #print(F_t)\n",
    "        # if t == tN-1:#final\n",
    "        #   l,l_x,l_xx = cost_final(sim_env,x_hat[t])\n",
    "        #   c_t = np.hstack([l_x,np.zeros([adim,])])\n",
    "        #   C_t = np.concatenate([l_xx,np.zeros([xdim,adim])],axis=1)\n",
    "        #   C_t = np.concatenate([C_t,np.zeros([adim,xdim+adim])],axis = 0)\n",
    "        # else:\n",
    "        _,l_x,l_xx,l_u,l_uu,l_ux = cost_inter(sim_env,x_hat[t],u_hat[t])\n",
    "        c_t = np.hstack([l_x,l_u])\n",
    "        C_t = np.concatenate([l_xx,np.transpose(l_ux)],axis = 1)\n",
    "        temp = np.concatenate([l_ux,l_uu],axis = 1)\n",
    "        C_t = np.concatenate([C_t,temp],axis = 0)\n",
    "        #print(C_t)\n",
    "        Q_t = C_t+np.matmul(np.matmul(np.transpose(F_t),V_t[t+1]),F_t)#Q_t = C_t+F_t^T*V_{t+1}*F_t\n",
    "        q_t = c_t+np.matmul(np.transpose(F_t),v_t[t+1])#q_t = c_t+F_t^T*v_{t+1}\n",
    "        K_t[t] = -np.matmul(np.linalg.pinv(Q_t[xdim:,xdim:]),Q_t[xdim:,:xdim])\n",
    "        k_t[t] = -np.matmul(np.linalg.pinv(Q_t[xdim:,xdim:]),q_t[xdim:])\n",
    "        V_t[t] = Q_t[:xdim,:xdim]+np.matmul(Q_t[:xdim,xdim:],K_t[t])+np.matmul(np.transpose(K_t[t]),Q_t[xdim:,:xdim])+np.matmul(np.matmul(np.transpose(K_t[t]),Q_t[xdim:,xdim:]),K_t[t])\n",
    "        v_t[t] = q_t[:xdim]+np.matmul(Q_t[:xdim,xdim:],k_t[t])+np.matmul(np.transpose(K_t[t]),q_t[xdim:])+np.matmul(np.matmul(np.transpose(K_t[t]),Q_t[xdim:,xdim:]),k_t[t])\n",
    "      \n",
    "    # x_0 = env.state.copy()\n",
    "    # adim = env.action_space.shape[0]\n",
    "    # xdim = x_0.shape[0]\n",
    "    # x_hat = np.zeros([tN+1,xdim])\n",
    "    # u_hat = np.zeros([tN,adim])\n",
    "    # kk_seq = np.zeros([tN,adim,xdim])\n",
    "    # k_seq = np.zeros([tN,adim])\n",
    "    # v = np.zeros([tN+1,])\n",
    "    # v_x = np.zeros([tN+1,xdim])\n",
    "    # v_xx = np.zeros([tN+1,xdim,xdim])\n",
    "\n",
    "    # for i in range(int(max_iter)):\n",
    "    #   print(\"iteration: %d\"%(i+1))\n",
    "    #   rtotal = 0\n",
    "    #   tcost = 0\n",
    "    #   u_hat_old = u_hat.copy()\n",
    "\n",
    "    #   #backward\n",
    "    #   v[-1],v_x[-1],v_xx[-1] = cost_final(sim_env,x_hat[-1])\n",
    "    #   for t in reversed(range(tN)):\n",
    "    #     F_t = approximate_F(sim_env,x_hat[t],u_hat[t])\n",
    "    #     f_x_t = F_t[:,:xdim]\n",
    "    #     f_u_t = F_t[:,xdim:]\n",
    "    #     _,l_x,l_xx,l_u,l_uu,l_ux = cost_inter(sim_env,x_hat[t],u_hat[t])\n",
    "    #     q_x = l_x + np.matmul(f_x_t.T,v_x[t+1])\n",
    "    #     q_u = l_u + np.matmul(f_u_t.T, v_x[t + 1])\n",
    "    #     q_xx = l_xx + np.matmul(np.matmul(f_x_t.T,v_xx[t+1]),f_x_t)\n",
    "    #     tmp = np.matmul(f_u_t.T, v_xx[t + 1])\n",
    "    #     q_uu = l_uu + np.matmul(tmp, f_u_t)\n",
    "    #     q_ux = l_ux + np.matmul(tmp, f_x_t)\n",
    "    #     inv_q_uu = np.linalg.pinv(q_uu)\n",
    "    #     k = -np.matmul(inv_q_uu, q_u)\n",
    "    #     kk = -np.matmul(inv_q_uu, q_ux)\n",
    "    #     dv = 0.5 * np.matmul(q_u, k)\n",
    "    #     v[t] += dv\n",
    "    #     v_x[t] = q_x - np.matmul(np.matmul(q_u, inv_q_uu), q_ux)\n",
    "    #     v_xx[t] = q_xx + np.matmul(q_ux.T, kk)\n",
    "    #     kk_seq[t] = kk.copy()\n",
    "    #     k_seq[t] = k.copy()\n",
    "      #forward\n",
    "      \n",
    "      sim_env.state = x_0.copy()\n",
    "      x = x_0.copy()\n",
    "      for t in range(tN):\n",
    "        #sim_env.render()\n",
    "        delta_x = x-x_hat[t]\n",
    "        x_hat[t] = x.copy()\n",
    "        u_hat[t] = np.matmul(K_t[t],delta_x)+k_t[t]+u_hat[t]\n",
    "        x,r,done,_ = sim_env.step(u_hat[t])\n",
    "        # if t != tN-1:\n",
    "        cost,_,_,_,_,_=cost_inter(sim_env,x,u_hat[t])\n",
    "        # else:\n",
    "        #   cost,_,_ = cost_final(sim_env,x)\n",
    "        rtotal+=r\n",
    "        tcost+=cost\n",
    "      x_hat[tN] = x.copy()\n",
    "      tcost+=cost_final(sim_env,x)[0]\n",
    "      print(\"total reward:\",rtotal)\n",
    "      print(\"total cost:\",tcost)\n",
    "      total_cost.append(tcost)\n",
    "      total_reward.append(rtotal)\n",
    "      if np.abs(u_hat-u_hat_old).max()<1e-3 :\n",
    "        break\n",
    "      \n",
    "      # sim_env.state = x_0.copy()\n",
    "      # x_seq = x_hat.copy()\n",
    "      # u_seq = u_hat.copy()\n",
    "      # for t in range(tN):\n",
    "      #   #sim_env.render()\n",
    "      #   delta_x = x_hat[t]-x_seq[t]\n",
    "      #   u_hat[t] = np.matmul(kk_seq[t],delta_x)+k_seq[t]+u_seq[t]\n",
    "      #   x_hat[t+1],r,done,_ = sim_env.step(u_hat[t])\n",
    "      #   # if t != tN-1:\n",
    "      #   cost,_,_,_,_,_=cost_inter(sim_env,x_hat[t],u_hat[t])\n",
    "      #   # else:\n",
    "      #   #   cost,_,_ = cost_final(sim_env,x)\n",
    "      #   rtotal+=r\n",
    "      #   tcost+=cost\n",
    "      # tcost+=cost_final(sim_env,x_hat[tN])[0]\n",
    "      # print(\"total reward:\",rtotal)\n",
    "      # print(\"total cost:\",tcost)\n",
    "      # if np.abs(u_hat-u_hat_old).max()<1e-4 :\n",
    "      #   break\n",
    "    plt.figure()\n",
    "    plt.subplot(121)\n",
    "    plt.plot(total_cost)\n",
    "    plt.title(\"cost\")\n",
    "    plt.subplot(122)\n",
    "    plt.plot(total_reward)\n",
    "    plt.title(\"reward\")\n",
    "    return u_hat.copy()\n"
   ]
  },
  {
   "cell_type": "code",
   "execution_count": 13,
   "metadata": {},
   "outputs": [
    {
     "name": "stderr",
     "output_type": "stream",
     "text": [
      "/home/mjhwang/anaconda3/envs/tf2/lib/python3.8/site-packages/gym/logger.py:30: UserWarning: \u001b[33mWARN: Box bound precision lowered by casting to float32\u001b[0m\n",
      "  warnings.warn(colorize('%s: %s'%('WARN', msg % args), 'yellow'))\n"
     ]
    },
    {
     "ename": "NotImplementedError",
     "evalue": "",
     "output_type": "error",
     "traceback": [
      "\u001b[0;31m---------------------------------------------------------------------------\u001b[0m",
      "\u001b[0;31mNotImplementedError\u001b[0m                       Traceback (most recent call last)",
      "\u001b[0;32m<ipython-input-13-aff83dd78a02>\u001b[0m in \u001b[0;36m<module>\u001b[0;34m\u001b[0m\n\u001b[1;32m      1\u001b[0m \u001b[0menv_name\u001b[0m \u001b[0;34m=\u001b[0m \u001b[0;34m\"TwoLinkArm-v0\"\u001b[0m\u001b[0;34m\u001b[0m\u001b[0;34m\u001b[0m\u001b[0m\n\u001b[1;32m      2\u001b[0m \u001b[0;34m\u001b[0m\u001b[0m\n\u001b[0;32m----> 3\u001b[0;31m \u001b[0menv\u001b[0m \u001b[0;34m=\u001b[0m \u001b[0mTwoLinkArmEnv\u001b[0m\u001b[0;34m(\u001b[0m\u001b[0;34m)\u001b[0m\u001b[0;34m\u001b[0m\u001b[0;34m\u001b[0m\u001b[0m\n\u001b[0m\u001b[1;32m      4\u001b[0m \u001b[0msim_env\u001b[0m \u001b[0;34m=\u001b[0m \u001b[0mTwoLinkArmEnv\u001b[0m\u001b[0;34m(\u001b[0m\u001b[0;34m)\u001b[0m\u001b[0;34m\u001b[0m\u001b[0;34m\u001b[0m\u001b[0m\n\u001b[1;32m      5\u001b[0m \u001b[0mdone\u001b[0m \u001b[0;34m=\u001b[0m \u001b[0;32mFalse\u001b[0m\u001b[0;34m\u001b[0m\u001b[0;34m\u001b[0m\u001b[0m\n",
      "\u001b[0;32m<ipython-input-11-a651801d3b67>\u001b[0m in \u001b[0;36m__init__\u001b[0;34m(self, Q, R, goal_q, init_q, init_dq, dt, l1, l2, m1, m2, izz1, izz2, noise_free, noise_mu, noise_sigma)\u001b[0m\n\u001b[1;32m     72\u001b[0m             (self.DOF, )) if noise_sigma is None else noise_sigma\n\u001b[1;32m     73\u001b[0m \u001b[0;34m\u001b[0m\u001b[0m\n\u001b[0;32m---> 74\u001b[0;31m         \u001b[0mself\u001b[0m\u001b[0;34m.\u001b[0m\u001b[0mreset\u001b[0m\u001b[0;34m(\u001b[0m\u001b[0;34m)\u001b[0m\u001b[0;34m\u001b[0m\u001b[0;34m\u001b[0m\u001b[0m\n\u001b[0m\u001b[1;32m     75\u001b[0m \u001b[0;34m\u001b[0m\u001b[0m\n\u001b[1;32m     76\u001b[0m         \u001b[0mself\u001b[0m\u001b[0;34m.\u001b[0m\u001b[0mviewer\u001b[0m \u001b[0;34m=\u001b[0m \u001b[0;32mNone\u001b[0m\u001b[0;34m\u001b[0m\u001b[0;34m\u001b[0m\u001b[0m\n",
      "\u001b[0;32m~/anaconda3/envs/tf2/lib/python3.8/site-packages/gym/core.py\u001b[0m in \u001b[0;36mreset\u001b[0;34m(self)\u001b[0m\n\u001b[1;32m     69\u001b[0m             \u001b[0mobservation\u001b[0m \u001b[0;34m(\u001b[0m\u001b[0mobject\u001b[0m\u001b[0;34m)\u001b[0m\u001b[0;34m:\u001b[0m \u001b[0mthe\u001b[0m \u001b[0minitial\u001b[0m \u001b[0mobservation\u001b[0m\u001b[0;34m.\u001b[0m\u001b[0;34m\u001b[0m\u001b[0;34m\u001b[0m\u001b[0m\n\u001b[1;32m     70\u001b[0m         \"\"\"\n\u001b[0;32m---> 71\u001b[0;31m         \u001b[0;32mraise\u001b[0m \u001b[0mNotImplementedError\u001b[0m\u001b[0;34m\u001b[0m\u001b[0;34m\u001b[0m\u001b[0m\n\u001b[0m\u001b[1;32m     72\u001b[0m \u001b[0;34m\u001b[0m\u001b[0m\n\u001b[1;32m     73\u001b[0m     \u001b[0;32mdef\u001b[0m \u001b[0mrender\u001b[0m\u001b[0;34m(\u001b[0m\u001b[0mself\u001b[0m\u001b[0;34m,\u001b[0m \u001b[0mmode\u001b[0m\u001b[0;34m=\u001b[0m\u001b[0;34m'human'\u001b[0m\u001b[0;34m)\u001b[0m\u001b[0;34m:\u001b[0m\u001b[0;34m\u001b[0m\u001b[0;34m\u001b[0m\u001b[0m\n",
      "\u001b[0;31mNotImplementedError\u001b[0m: "
     ]
    }
   ],
   "source": [
    "\n",
    "env_name = \"TwoLinkArm-v0\"\n",
    "\n",
    "env = TwoLinkArmEnv()\n",
    "sim_env = TwoLinkArmEnv()\n",
    "done = False\n",
    "state = env.reset()\n",
    "sim_env.reset()\n",
    "treward = 0\n",
    "q = []\n",
    "q_dot = []\n",
    "u_t = []\n",
    "u_limit = []\n",
    "step_num = 0\n",
    "tN = 100\n",
    "#env._step(np.random.uniform(-100.0,100.0,(2,)),0.001)\n",
    "# env.state = np.hstack([env.goal_q,env.goal_dq])\n",
    "# print (env.state)\n",
    "while not done and step_num<tN:\n",
    "    env.render()\n",
    "    q.append(env.position)\n",
    "    q_dot.append(env.velocity)\n",
    "    u = calc_lqr_input(env,sim_env)\n",
    "    state,reward,done,_ = env.step(u)\n",
    "    treward+=reward\n",
    "    step_num+=1\n",
    "    u_t.append(u)\n",
    "    u_limit.append(np.clip(u,env.action_space.low,env.action_space.high))\n",
    "    if np.max(env.velocity)>1000:\n",
    "        break\n",
    "    \n",
    "q = np.array(q)\n",
    "q_dot = np.array(q_dot)\n",
    "u_t = np.array(u_t)\n",
    "u_limit = np.array(u_limit)\n",
    "print(\"total reward:\",treward)\n",
    "print(\"total steps:\",step_num)\n",
    "plt.subplot(421)\n",
    "plt.plot(q[:,0])\n",
    "plt.title(\"q[0]\")\n",
    "plt.subplot(422)\n",
    "plt.plot(q[:,1])\n",
    "plt.title(\"q[1]\")\n",
    "plt.subplot(423)\n",
    "plt.plot(q_dot[:,0])\n",
    "plt.title(\"q_dot[0]\")\n",
    "plt.subplot(424)\n",
    "plt.plot(q_dot[:,1])\n",
    "plt.title(\"q_dot[1]\")\n",
    "plt.subplot(425)\n",
    "plt.plot(u_t[:,0])\n",
    "plt.title(\"u[0]\")\n",
    "plt.subplot(426)\n",
    "plt.plot(u_t[:,1])\n",
    "plt.title(\"u[1]\")\n",
    "plt.subplot(427)\n",
    "plt.plot(u_limit[:,0])\n",
    "plt.title(\"u_limit[0]\")\n",
    "plt.subplot(428)\n",
    "plt.plot(u_limit[:,1])\n",
    "plt.title(\"u_limit[1]\")\n",
    "plt.show()\n",
    "env.close()\n",
    "sim_env.close()\n"
   ]
  },
  {
   "cell_type": "code",
   "execution_count": null,
   "metadata": {},
   "outputs": [],
   "source": []
  }
 ],
 "metadata": {
  "kernelspec": {
   "display_name": "Python 3",
   "language": "python",
   "name": "python3"
  },
  "language_info": {
   "codemirror_mode": {
    "name": "ipython",
    "version": 3
   },
   "file_extension": ".py",
   "mimetype": "text/x-python",
   "name": "python",
   "nbconvert_exporter": "python",
   "pygments_lexer": "ipython3",
   "version": "3.7.4"
  }
 },
 "nbformat": 4,
 "nbformat_minor": 4
}
